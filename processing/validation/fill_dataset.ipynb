{
 "cells": [
  {
   "cell_type": "markdown",
   "id": "d6d10c76",
   "metadata": {},
   "source": [
    "# Fill validation dataset"
   ]
  },
  {
   "cell_type": "markdown",
   "id": "eafef3c1",
   "metadata": {},
   "source": [
    "This script enables manual completion of the ground truth validation dataset by allowing the user to iteratively inspect and fill in extracted information such as chief complaint and vital signs (VS) for a specific note.\n",
    "\n",
    "Workflow:\n",
    "---------\n",
    "1. Loads the ground truth JSON ('ground_truth_and_full_notes.json').\n",
    "2. Displays selected note sections to assist with manual data entry:\n",
    "    - 'note_fragment' for vitals\n",
    "    - Full 'text' for chief complaint\n",
    "3. Lets the user assign:\n",
    "    - 'chief_complaint' (free text)\n",
    "    - 'extracted_data' (nested VS dictionary)\n",
    "4. Writes updated data back to a JSON file ('ground_truth.json').\n"
   ]
  },
  {
   "cell_type": "code",
   "execution_count": null,
   "id": "2fff4f99",
   "metadata": {},
   "outputs": [],
   "source": [
    "import json\n",
    "\n",
    "# === Read the contents of the file ===\n",
    "with open(\"datasets/ground_truth_and_full_notes.json\", 'r') as file:\n",
    "    data = json.load(file)"
   ]
  },
  {
   "cell_type": "code",
   "execution_count": null,
   "id": "062b475e",
   "metadata": {},
   "outputs": [],
   "source": [
    "i = 50\n",
    "key =  data[i-1]\n",
    "print(key[\"note_number\"])\n",
    "\n",
    "# === to extract Vitals ===\n",
    "print(key[\"note_fragment\"])\n",
    "\n",
    "# === To extract chief complaint ===\n",
    "# print(key[\"text\"])\n",
    "# print(\"\\n----------------------------------------------------------------------------\")\n",
    "# print(key[\"chief_complaint\"])\n",
    "# print(\"-------------------------------------------------------------------------------\\n\")"
   ]
  },
  {
   "cell_type": "code",
   "execution_count": null,
   "id": "1922d2bc",
   "metadata": {},
   "outputs": [],
   "source": [
    "cc = \"\"\n",
    "\n",
    "# === Fill the JSON with data ===\n",
    "data[i-1]['chief_complaint'] = cc\n",
    "\n",
    "# === Write the updated data back to the file ===\n",
    "with open(\"ground_truch.json\", 'w') as file:\n",
    "    json.dump(data, file, indent=4)"
   ]
  },
  {
   "cell_type": "code",
   "execution_count": null,
   "id": "ed242b9e",
   "metadata": {},
   "outputs": [],
   "source": [
    "extracted_data = {} # if there is no VS"
   ]
  },
  {
   "cell_type": "code",
   "execution_count": null,
   "id": "9e49cdb9",
   "metadata": {},
   "outputs": [],
   "source": [
    "extracted_data = {\n",
    "  \"Emergency Department\": {\n",
    "      \"Body Temperature\": None,\n",
    "      \"Systolic Blood Pressure\": None,\n",
    "      \"Diastolic Blood Pressure\": None,\n",
    "      \"Heart Rate\": None,\n",
    "      \"Respiratory Rate\": None,\n",
    "      \"Oxygen Saturation\": None\n",
    "  },\n",
    "  \"Admission\": {\n",
    "      \"Body Temperature\": None,\n",
    "      \"Systolic Blood Pressure\": None,\n",
    "      \"Diastolic Blood Pressure\": None,\n",
    "      \"Heart Rate\": None,\n",
    "      \"Respiratory Rate\": None,\n",
    "      \"Oxygen Saturation\": None\n",
    "  },  \n",
    "  \"Transfer\": {\n",
    "      \"Body Temperature\": None,\n",
    "      \"Systolic Blood Pressure\": None,\n",
    "      \"Diastolic Blood Pressure\": None,\n",
    "      \"Heart Rate\": None,\n",
    "      \"Respiratory Rate\": None,\n",
    "      \"Oxygen Saturation\": None\n",
    "  },\n",
    "  \"Discharge\": {\n",
    "      \"Body Temperature\": None,\n",
    "      \"Systolic Blood Pressure\": None,\n",
    "      \"Diastolic Blood Pressure\": None,\n",
    "      \"Heart Rate\": None,\n",
    "      \"Respiratory Rate\": None,\n",
    "      \"Oxygen Saturation\": None\n",
    "  },\n",
    "  \"Unkown\": {\n",
    "      \"Body Temperature\": None,\n",
    "      \"Systolic Blood Pressure\": None,\n",
    "      \"Diastolic Blood Pressure\": None,\n",
    "      \"Heart Rate\": None,\n",
    "      \"Respiratory Rate\": None,\n",
    "      \"Oxygen Saturation\": None\n",
    "  }\n",
    "}"
   ]
  },
  {
   "cell_type": "code",
   "execution_count": null,
   "id": "92fabe0c",
   "metadata": {},
   "outputs": [],
   "source": [
    "# === Fill the JSON with data ===\n",
    "data[i-1]['extracted_data'] = extracted_data\n",
    "\n",
    "# === Write the updated data back to the file ===\n",
    "with open(\"ground_truth.json\", 'w') as file:\n",
    "    json.dump(data, file, indent=4)"
   ]
  }
 ],
 "metadata": {
  "kernelspec": {
   "display_name": "base",
   "language": "python",
   "name": "python3"
  },
  "language_info": {
   "codemirror_mode": {
    "name": "ipython",
    "version": 3
   },
   "file_extension": ".py",
   "mimetype": "text/x-python",
   "name": "python",
   "nbconvert_exporter": "python",
   "pygments_lexer": "ipython3",
   "version": "3.12.9"
  }
 },
 "nbformat": 4,
 "nbformat_minor": 5
}
